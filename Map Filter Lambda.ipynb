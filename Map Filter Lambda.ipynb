{
 "cells": [
  {
   "cell_type": "markdown",
   "metadata": {},
   "source": [
    "# Functional Programming| Map Filter Lambda"
   ]
  },
  {
   "cell_type": "code",
   "execution_count": 1,
   "metadata": {},
   "outputs": [],
   "source": [
    "# map\n",
    "# filter\n",
    "# lambda"
   ]
  },
  {
   "cell_type": "code",
   "execution_count": 2,
   "metadata": {},
   "outputs": [],
   "source": [
    "# Its very fast compare to comprehension and for loops\n",
    "# map mtlb for loop"
   ]
  },
  {
   "cell_type": "code",
   "execution_count": 3,
   "metadata": {},
   "outputs": [
    {
     "name": "stdout",
     "output_type": "stream",
     "text": [
      "[100, 400, 900, 1600, 2500]\n"
     ]
    }
   ],
   "source": [
    "def sqr(num):\n",
    "    return num**2\n",
    "\n",
    "l=[10,20,30,40,50]\n",
    "\n",
    "result= list(map(sqr,l))  #Second element is iterable\n",
    "print(result)"
   ]
  },
  {
   "cell_type": "code",
   "execution_count": 4,
   "metadata": {},
   "outputs": [
    {
     "name": "stdout",
     "output_type": "stream",
     "text": [
      "[110, 220, 330, 440, 550]\n"
     ]
    }
   ],
   "source": [
    "def add(num1,num2):\n",
    "    return num1+num2\n",
    "\n",
    "l1= [100,200,300,400,500]\n",
    "l2=[10,20,30,40,50]\n",
    "\n",
    "result= list(map(add,l1,l2))\n",
    "print(result)"
   ]
  },
  {
   "cell_type": "markdown",
   "metadata": {},
   "source": [
    "# Filter"
   ]
  },
  {
   "cell_type": "code",
   "execution_count": 21,
   "metadata": {},
   "outputs": [
    {
     "name": "stdout",
     "output_type": "stream",
     "text": [
      "[10, 16, 18]\n",
      "[True, False, True, False, True, False, False]\n"
     ]
    }
   ],
   "source": [
    "\n",
    "def check_num(num1):\n",
    "    if num1%2 ==0:\n",
    "        return True\n",
    "        \n",
    "    else:\n",
    "        return False\n",
    "    \n",
    "l=[10,15,16,17,18,19,13]\n",
    "    \n",
    "result = list(filter(check_num,l))\n",
    "\n",
    "print(result)\n",
    "\n",
    "#map\n",
    "def check_num(num1):\n",
    "    if num1%2 ==0:\n",
    "        return True\n",
    "        \n",
    "    else:\n",
    "        return False\n",
    "    \n",
    "l=[10,15,16,17,18,19,13]\n",
    "    \n",
    "result = list(map(check_num,l))\n",
    "\n",
    "print(result)"
   ]
  },
  {
   "cell_type": "markdown",
   "metadata": {},
   "source": [
    "# Lambda\n"
   ]
  },
  {
   "cell_type": "code",
   "execution_count": 25,
   "metadata": {},
   "outputs": [
    {
     "name": "stdout",
     "output_type": "stream",
     "text": [
      "[100, 400, 900, 1600, 2500, 3600]\n"
     ]
    }
   ],
   "source": [
    "l=[10,20,30,40,50,60]\n",
    "\n",
    "result= list(map(lambda num1:num1**2,l))\n",
    "             \n",
    "print(result)"
   ]
  },
  {
   "cell_type": "code",
   "execution_count": 28,
   "metadata": {},
   "outputs": [
    {
     "data": {
      "text/plain": [
       "[10, 12, 16]"
      ]
     },
     "execution_count": 28,
     "metadata": {},
     "output_type": "execute_result"
    }
   ],
   "source": [
    "l=[10,12,13,15,17,16]\n",
    "\n",
    "result= list(filter(lambda num: num%2==0,l))# '=' -->assigmnet operator ans '==' comparison operator\n",
    "result"
   ]
  },
  {
   "cell_type": "code",
   "execution_count": 1,
   "metadata": {},
   "outputs": [
    {
     "name": "stdout",
     "output_type": "stream",
     "text": [
      "{5: 10, 1: 20, 2: 30, 3: 40, 8: 50}\n"
     ]
    }
   ],
   "source": [
    "d= {8:50,3:40,2:30,1:20,5:10}\n",
    "l= dict(sorted(d.items(),key=lambda x:x[1]))\n",
    "print(l)"
   ]
  },
  {
   "cell_type": "code",
   "execution_count": null,
   "metadata": {},
   "outputs": [],
   "source": []
  }
 ],
 "metadata": {
  "kernelspec": {
   "display_name": "Python 3",
   "language": "python",
   "name": "python3"
  },
  "language_info": {
   "codemirror_mode": {
    "name": "ipython",
    "version": 3
   },
   "file_extension": ".py",
   "mimetype": "text/x-python",
   "name": "python",
   "nbconvert_exporter": "python",
   "pygments_lexer": "ipython3",
   "version": "3.8.5"
  }
 },
 "nbformat": 4,
 "nbformat_minor": 4
}
